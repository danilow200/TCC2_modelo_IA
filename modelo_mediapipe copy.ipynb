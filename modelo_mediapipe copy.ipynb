{
 "cells": [
  {
   "cell_type": "code",
   "execution_count": 1,
   "metadata": {},
   "outputs": [],
   "source": [
    "import cv2\n",
    "import mediapipe as mp\n",
    "import os\n",
    "import numpy as np\n",
    "from collections import Counter\n",
    "from sklearn.ensemble import RandomForestClassifier\n",
    "from sklearn.model_selection import train_test_split\n",
    "import joblib"
   ]
  },
  {
   "cell_type": "code",
   "execution_count": 2,
   "metadata": {},
   "outputs": [],
   "source": [
    "# Inicializando o MediaPipe Hands\n",
    "mp_hands = mp.solutions.hands\n",
    "hands = mp_hands.Hands(static_image_mode=False, max_num_hands=2, min_detection_confidence=0.5)\n",
    "\n",
    "# Pasta com os vídeos\n",
    "pasta_videos = './pasta2'\n",
    "\n",
    "# Listas para armazenar os dados e os rótulos\n",
    "dados = []\n",
    "rotulos = []\n",
    "\n",
    "# Dicionário para armazenar as coordenadas por palavra\n",
    "coordenadas_por_palavra = {'direita': {}, 'esquerda': {}}"
   ]
  },
  {
   "cell_type": "code",
   "execution_count": 3,
   "metadata": {},
   "outputs": [
    {
     "name": "stderr",
     "output_type": "stream",
     "text": [
      "c:\\Users\\danil\\Documents\\GitHub\\TCC2_modelo_IA\\myenv\\Lib\\site-packages\\google\\protobuf\\symbol_database.py:55: UserWarning: SymbolDatabase.GetPrototype() is deprecated. Please use message_factory.GetMessageClass() instead. SymbolDatabase.GetPrototype() will be removed soon.\n",
      "  warnings.warn('SymbolDatabase.GetPrototype() is deprecated. Please '\n"
     ]
    },
    {
     "name": "stdout",
     "output_type": "stream",
     "text": [
      "Acurácia do modelo: 0.00%\n"
     ]
    },
    {
     "data": {
      "text/plain": [
       "['modelo.pkl']"
      ]
     },
     "execution_count": 3,
     "metadata": {},
     "output_type": "execute_result"
    }
   ],
   "source": [
    "for subpasta in os.listdir(pasta_videos):\n",
    "    for video in os.listdir(os.path.join(pasta_videos, subpasta)):\n",
    "        # Lendo o vídeo\n",
    "        cap = cv2.VideoCapture(os.path.join(pasta_videos, subpasta, video))\n",
    "        \n",
    "        while cap.isOpened():\n",
    "            ret, frame = cap.read()\n",
    "            if not ret:\n",
    "                break\n",
    "            \n",
    "            # Convertendo a cor da imagem\n",
    "            image = cv2.cvtColor(frame, cv2.COLOR_BGR2RGB)\n",
    "            \n",
    "            # Processando a imagem\n",
    "            result = hands.process(image)\n",
    "            \n",
    "            if result.multi_hand_landmarks and result.multi_handedness:\n",
    "                for hand_landmarks, handedness in zip(result.multi_hand_landmarks, result.multi_handedness):\n",
    "                    # Identificar se a mão é direita ou esquerda\n",
    "                    hand_label = handedness.classification[0].label.lower()  # 'left' ou 'right'\n",
    "                    if hand_label == 'right':\n",
    "                        hand_label = 'direita'\n",
    "                    else:\n",
    "                        hand_label = 'esquerda'\n",
    "                    \n",
    "                    # Extraindo as coordenadas\n",
    "                    coords = list(np.array([[landmark.x, landmark.y, landmark.z] for landmark in hand_landmarks.landmark]).flatten())\n",
    "                    \n",
    "                    # Adicionando as coordenadas à lista de dados\n",
    "                    dados.append(coords)\n",
    "                    # Adicionando o rótulo à lista de rótulos\n",
    "                    rotulos.append(subpasta)\n",
    "                    \n",
    "                    # Armazenando as coordenadas por palavra e mão\n",
    "                    if subpasta not in coordenadas_por_palavra[hand_label]:\n",
    "                        coordenadas_por_palavra[hand_label][subpasta] = []\n",
    "                    coordenadas_por_palavra[hand_label][subpasta].append(tuple(coords))\n",
    "\n",
    "# Selecionando a coordenada mais frequente por palavra e por mão\n",
    "coordenadas_selecionadas = {'direita': {}, 'esquerda': {}}\n",
    "for hand_label in ['direita', 'esquerda']:\n",
    "    for palavra, coords_lista in coordenadas_por_palavra[hand_label].items():\n",
    "        # Contar a frequência de cada conjunto de coordenadas\n",
    "        contador = Counter(coords_lista)\n",
    "        # Selecionar a coordenada mais frequente\n",
    "        mais_frequente = contador.most_common(1)[0][0]\n",
    "        coordenadas_selecionadas[hand_label][palavra] = mais_frequente\n",
    "\n",
    "# Preparando os dados para treinamento\n",
    "dados_filtrados = []\n",
    "rotulos_filtrados = []\n",
    "for hand_label in ['direita', 'esquerda']:\n",
    "    for palavra, coords in coordenadas_selecionadas[hand_label].items():\n",
    "        dados_filtrados.append(coords)\n",
    "        rotulos_filtrados.append(palavra)\n",
    "\n",
    "# Convertendo as listas em arrays numpy\n",
    "dados = np.array(dados_filtrados)\n",
    "rotulos = np.array(rotulos_filtrados)\n",
    "\n",
    "# Balanceamento dos dados\n",
    "min_amostras = min(Counter(rotulos).values())\n",
    "dados_balanceados = []\n",
    "rotulos_balanceados = []\n",
    "for palavra in coordenadas_selecionadas['direita'].keys():\n",
    "    indices = [i for i, r in enumerate(rotulos) if r == palavra]\n",
    "    indices_selecionados = np.random.choice(indices, min_amostras, replace=False)\n",
    "    dados_balanceados.extend(dados[indices_selecionados])\n",
    "    rotulos_balanceados.extend(rotulos[indices_selecionados])\n",
    "\n",
    "dados_balanceados = np.array(dados_balanceados)\n",
    "rotulos_balanceados = np.array(rotulos_balanceados)\n",
    "\n",
    "# Dividindo os dados em conjuntos de treinamento e teste\n",
    "X_train, X_test, y_train, y_test = train_test_split(dados_balanceados, rotulos_balanceados, test_size=0.2, random_state=42)\n",
    "\n",
    "# Treinando o modelo com as coordenadas selecionadas\n",
    "modelo = RandomForestClassifier(n_estimators=100, random_state=42, class_weight='balanced')\n",
    "modelo.fit(X_train, y_train)\n",
    "\n",
    "# Avaliando o modelo\n",
    "score = modelo.score(X_test, y_test)\n",
    "print(f'Acurácia do modelo: {score*100:.2f}%')\n",
    "\n",
    "# Salvando o modelo\n",
    "joblib.dump(modelo, 'modelo.pkl')"
   ]
  }
 ],
 "metadata": {
  "kernelspec": {
   "display_name": "Python 3",
   "language": "python",
   "name": "python3"
  },
  "language_info": {
   "codemirror_mode": {
    "name": "ipython",
    "version": 3
   },
   "file_extension": ".py",
   "mimetype": "text/x-python",
   "name": "python",
   "nbconvert_exporter": "python",
   "pygments_lexer": "ipython3",
   "version": "3.12.1"
  }
 },
 "nbformat": 4,
 "nbformat_minor": 2
}
