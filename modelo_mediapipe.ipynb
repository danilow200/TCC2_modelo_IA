{
 "cells": [
  {
   "cell_type": "code",
   "execution_count": 4,
   "metadata": {},
   "outputs": [],
   "source": [
    "import cv2\n",
    "import mediapipe as mp\n",
    "import os\n",
    "import numpy as np\n",
    "from sklearn.ensemble import RandomForestClassifier\n",
    "from sklearn.model_selection import train_test_split\n",
    "import joblib"
   ]
  },
  {
   "cell_type": "code",
   "execution_count": 5,
   "metadata": {},
   "outputs": [],
   "source": [
    "# Inicializando o MediaPipe Hands\n",
    "mp_hands = mp.solutions.hands\n",
    "hands = mp_hands.Hands(static_image_mode=False, max_num_hands=2, min_detection_confidence=0.5)\n",
    "\n",
    "# Pasta com os vídeos\n",
    "pasta_videos = './pasta2'\n",
    "\n",
    "# Listas para armazenar os dados e os rótulos\n",
    "dados = []\n",
    "rotulos = []"
   ]
  },
  {
   "cell_type": "code",
   "execution_count": 6,
   "metadata": {},
   "outputs": [
    {
     "name": "stderr",
     "output_type": "stream",
     "text": [
      "c:\\Users\\danil\\AppData\\Local\\Programs\\Python\\Python311\\Lib\\site-packages\\google\\protobuf\\symbol_database.py:55: UserWarning: SymbolDatabase.GetPrototype() is deprecated. Please use message_factory.GetMessageClass() instead. SymbolDatabase.GetPrototype() will be removed soon.\n",
      "  warnings.warn('SymbolDatabase.GetPrototype() is deprecated. Please '\n"
     ]
    },
    {
     "name": "stdout",
     "output_type": "stream",
     "text": [
      "Acurácia do modelo: 97.29%\n"
     ]
    },
    {
     "data": {
      "text/plain": [
       "['modelo.pkl']"
      ]
     },
     "execution_count": 6,
     "metadata": {},
     "output_type": "execute_result"
    }
   ],
   "source": [
    "# Dicionário para armazenar as coordenadas por palavra\n",
    "coordenadas_por_palavra = {}\n",
    "\n",
    "for subpasta in os.listdir(pasta_videos):\n",
    "    for video in os.listdir(os.path.join(pasta_videos, subpasta)):\n",
    "        # Lendo o vídeo\n",
    "        cap = cv2.VideoCapture(os.path.join(pasta_videos, subpasta, video))\n",
    "        \n",
    "        while cap.isOpened():\n",
    "            ret, frame = cap.read()\n",
    "            if not ret:\n",
    "                break\n",
    "            \n",
    "            # Convertendo a cor da imagem\n",
    "            image = cv2.cvtColor(frame, cv2.COLOR_BGR2RGB)\n",
    "            \n",
    "            # Processando a imagem\n",
    "            result = hands.process(image)\n",
    "            \n",
    "            if result.multi_hand_landmarks:\n",
    "                for hand_landmarks in result.multi_hand_landmarks:\n",
    "                    # Extraindo as coordenadas\n",
    "                    coords = list(np.array([[landmark.x, landmark.y, landmark.z] for landmark in hand_landmarks.landmark]).flatten())\n",
    "                    \n",
    "                    # Adicionando as coordenadas à lista de dados\n",
    "                    dados.append(coords)\n",
    "                    # Adicionando o rótulo à lista de rótulos\n",
    "                    rotulos.append(subpasta)\n",
    "                    \n",
    "                    # Armazenando as coordenadas por palavra\n",
    "                    if subpasta not in coordenadas_por_palavra:\n",
    "                        coordenadas_por_palavra[subpasta] = []\n",
    "                    coordenadas_por_palavra[subpasta].append(coords)\n",
    "\n",
    "# Selecionando as coordenadas mais frequentes por palavra (média das coordenadas)\n",
    "coordenadas_selecionadas = {}\n",
    "for palavra, coords_lista in coordenadas_por_palavra.items():\n",
    "    coordenadas_selecionadas[palavra] = np.mean(coords_lista, axis=0)\n",
    "\n",
    "# Convertendo as listas em arrays numpy\n",
    "dados = np.array(dados)\n",
    "rotulos = np.array(rotulos)\n",
    "\n",
    "# Dividindo os dados em conjuntos de treinamento e teste\n",
    "X_train, X_test, y_train, y_test = train_test_split(dados, rotulos, test_size=0.2, random_state=42)\n",
    "\n",
    "# Treinando o modelo com as coordenadas selecionadas\n",
    "modelo = RandomForestClassifier(n_estimators=100, random_state=42)\n",
    "modelo.fit(X_train, y_train)\n",
    "\n",
    "# Avaliando o modelo\n",
    "score = modelo.score(X_test, y_test)\n",
    "print(f'Acurácia do modelo: {score*100:.2f}%')\n",
    "\n",
    "# Salvando o modelo\n",
    "joblib.dump(modelo, 'modelo.pkl')"
   ]
  }
 ],
 "metadata": {
  "kernelspec": {
   "display_name": "Python 3",
   "language": "python",
   "name": "python3"
  },
  "language_info": {
   "codemirror_mode": {
    "name": "ipython",
    "version": 3
   },
   "file_extension": ".py",
   "mimetype": "text/x-python",
   "name": "python",
   "nbconvert_exporter": "python",
   "pygments_lexer": "ipython3",
   "version": "3.11.3"
  }
 },
 "nbformat": 4,
 "nbformat_minor": 2
}
